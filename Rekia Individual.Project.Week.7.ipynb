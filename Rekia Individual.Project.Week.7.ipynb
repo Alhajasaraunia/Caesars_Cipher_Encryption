{
 "cells": [
  {
   "attachments": {},
   "cell_type": "markdown",
   "id": "f4e79fcc-3543-422d-9d86-7d632ca1f7f4",
   "metadata": {},
   "source": [
    "# REKIA IDDRISU OUEDRAOGO PROJECT - WEEK 7\n",
    "\n",
    "# Caesar's Cipher Encryption\n",
    "\n",
    "#### The IT team needs to comply with the companies' policies on data privacy, your boss tasks you to write an algorithm to encrypt and decrypt its internal messages using Caesar's Cipher.\n",
    "\n",
    "#### In cryptography, a Caesar cipher, also known as shift cipher, is one of the simplest and most widely known encryption techniques. \n",
    "\n",
    "#### It is a type of substitution cipher in which each letter in the plaintext is replaced by a letter of some fixed number of positions down the alphabet. \n",
    "\n",
    "#### For example, with a left shift of 3, D would be replaced by A, E would become B, and so on. \n",
    "\n",
    "#### The method is named after Julius Caesar, who used it in his private correspondence.\n",
    "\n",
    "#### The transformation can be represented by aligning two alphabets; the cipher alphabet is the plain alphabet rotated left or right by some number of positions. \n",
    "\n",
    "#### For instance, here is a Caesar cipher using a left rotation of three places, equivalent to a right shift of 23 (the shift parameter is used as the key):\n",
    "\n",
    "#### Plain:  ABCDEFGHIJKLMNOPQRSTUVWXYZ\n",
    "\n",
    "#### Cipher: XYZABCDEFGHIJKLMNOPQRSTUVW\n",
    "\n",
    "#### When encrypting, a person looks up each letter of the message in the “plain” line and writes down the corresponding letter in the “cipher” line.\n",
    "\n",
    "#### Plaintext:  THE QUICK BROWN FOX JUMPS OVER THE LAZY DOG\n",
    "\n",
    "#### Ciphertext: QEB NRFZH YOLTK CLU GRJMP LSBO QEB IXWV ALD\n",
    "\n",
    "#### Deciphering is done in reverse, with a right shift of 3."
   ]
  },
  {
   "cell_type": "code",
   "execution_count": 5,
   "id": "2215abbc-e5b2-448a-9079-8345aaf6d4be",
   "metadata": {},
   "outputs": [
    {
     "name": "stdout",
     "output_type": "stream",
     "text": [
      "Type your message:  THE QUICK BROWN FOX JUMPS OVER THE LAZY DOG\n"
     ]
    },
    {
     "name": "stdout",
     "output_type": "stream",
     "text": [
      "QEB NRFZH YOLTK CLU GRJMP LSBO QEB IXWV ALD\n",
      "THE QUICK BROWN FOX JUMPS OVER THE LAZY DOG\n"
     ]
    }
   ],
   "source": [
    "def caesar_cipher(text, shift):\n",
    "    # Create a string of all the uppercase and lowercase letters\n",
    "    upper = \"ABCDEFGHIJKLMNOPQRSTUVWXYZ\"\n",
    "    lower = \"abcdefghijklmnopqrstuvwxyz\"\n",
    "\n",
    "    # Initialize the encrypted text as an empty string\n",
    "    encrypted = \"\"\n",
    "\n",
    "    # Loop through each character in the text\n",
    "    for char in text:\n",
    "        # If the character is an uppercase letter, encrypt it\n",
    "        if char in upper:\n",
    "            encrypted += upper[(upper.index(char) + shift) % 26]\n",
    "        # If the character is a lowercase letter, encrypt it\n",
    "        elif char in lower:\n",
    "            encrypted += lower[(lower.index(char) + shift) % 26]\n",
    "        # If the character is not a letter, leave it as is\n",
    "        else:\n",
    "            encrypted += char\n",
    "\n",
    "    return encrypted\n",
    "\n",
    "# Test the function\n",
    "plaintext = input('Type your message: ')\n",
    "shift = 3\n",
    "encrypted = caesar_cipher(plaintext, -shift)\n",
    "print(encrypted)\n",
    "decrypted = caesar_cipher(encrypted, shift)\n",
    "print(decrypted)"
   ]
  },
  {
   "cell_type": "raw",
   "id": "6d13a7b8-bb68-486b-a2ce-1228f81503cb",
   "metadata": {},
   "source": []
  }
 ],
 "metadata": {
  "kernelspec": {
   "display_name": "Python 3 (ipykernel)",
   "language": "python",
   "name": "python3"
  },
  "language_info": {
   "codemirror_mode": {
    "name": "ipython",
    "version": 3
   },
   "file_extension": ".py",
   "mimetype": "text/x-python",
   "name": "python",
   "nbconvert_exporter": "python",
   "pygments_lexer": "ipython3",
   "version": "3.9.7"
  }
 },
 "nbformat": 4,
 "nbformat_minor": 5
}
